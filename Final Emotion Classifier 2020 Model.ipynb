{
 "cells": [
  {
   "cell_type": "markdown",
   "metadata": {
    "id": "i4DfSiFG5J5k"
   },
   "source": [
    "---\n",
    "# Tweet Emotion Classifier\n",
    "---"
   ]
  },
  {
   "cell_type": "markdown",
   "metadata": {
    "id": "OxtYeVua5e9V"
   },
   "source": [
    "Files needed:\n",
    "* Lastest json file with all tweets from all cities (e.g. {time_stamp}_all_cities.json)"
   ]
  },
  {
   "cell_type": "markdown",
   "metadata": {
    "id": "ROXlteqv_LJY"
   },
   "source": [
    "## Installs and Imports"
   ]
  },
  {
   "cell_type": "code",
   "execution_count": 1,
   "metadata": {
    "colab": {
     "base_uri": "https://localhost:8080/"
    },
    "executionInfo": {
     "elapsed": 44539,
     "status": "ok",
     "timestamp": 1646190221294,
     "user": {
      "displayName": "Adam Talbot",
      "photoUrl": "https://lh3.googleusercontent.com/a-/AOh14Gg1bhsTkJdtTn2EvFsfqarCW4nFkBUM4pk5_02-=s64",
      "userId": "01176632121423289274"
     },
     "user_tz": 420
    },
    "id": "vTAmPGEi5zEz",
    "outputId": "000feebd-8410-47bd-ab84-2abbe242989a"
   },
   "outputs": [],
   "source": [
    "# Install PySpark and Spark NLP\n",
    "! pip install -q pyspark==3.1.2 spark-nlp"
   ]
  },
  {
   "cell_type": "code",
   "execution_count": 2,
   "metadata": {
    "executionInfo": {
     "elapsed": 371,
     "status": "ok",
     "timestamp": 1646190221656,
     "user": {
      "displayName": "Adam Talbot",
      "photoUrl": "https://lh3.googleusercontent.com/a-/AOh14Gg1bhsTkJdtTn2EvFsfqarCW4nFkBUM4pk5_02-=s64",
      "userId": "01176632121423289274"
     },
     "user_tz": 420
    },
    "id": "ZRv539ZHEoHm"
   },
   "outputs": [],
   "source": [
    "import pandas as pd\n",
    "import numpy as np\n",
    "import json\n",
    "from pyspark.ml import Pipeline\n",
    "from pyspark.sql import SparkSession\n",
    "import pyspark.sql.functions as F\n",
    "from sparknlp.annotator import *\n",
    "from sparknlp.base import *\n",
    "import sparknlp\n",
    "from sparknlp.pretrained import PretrainedPipeline\n",
    "from datetime import datetime\n",
    "\n",
    "import matplotlib.pyplot as plt\n",
    "import seaborn as sns\n",
    "\n",
    "# visualization settings\n",
    "plt.rc('figure', figsize=(13, 7))\n",
    "plt.rc('font', size=16)\n",
    "plt.style.use('seaborn-darkgrid')\n",
    "\n",
    "#select seaborn color palette\n",
    "sns.set_palette('ocean_r')"
   ]
  },
  {
   "cell_type": "markdown",
   "metadata": {
    "id": "Vy2nxdwj_R-4"
   },
   "source": [
    "## Modeling"
   ]
  },
  {
   "cell_type": "code",
   "execution_count": 3,
   "metadata": {
    "colab": {
     "base_uri": "https://localhost:8080/"
    },
    "executionInfo": {
     "elapsed": 134169,
     "status": "ok",
     "timestamp": 1646190356198,
     "user": {
      "displayName": "Adam Talbot",
      "photoUrl": "https://lh3.googleusercontent.com/a-/AOh14Gg1bhsTkJdtTn2EvFsfqarCW4nFkBUM4pk5_02-=s64",
      "userId": "01176632121423289274"
     },
     "user_tz": 420
    },
    "id": "AjYAoHRa57rL",
    "outputId": "59da0d5d-0748-464b-f303-f85d35b2626e"
   },
   "outputs": [
    {
     "name": "stdout",
     "output_type": "stream",
     "text": [
      "tfhub_use download started this may take some time.\n",
      "Approximate size to download 923.7 MB\n",
      "[OK!]\n",
      "classifierdl_use_emotion download started this may take some time.\n",
      "Approximate size to download 21.3 MB\n",
      "[OK!]\n"
     ]
    }
   ],
   "source": [
    "# start spark session\n",
    "spark = sparknlp.start()\n",
    "\n",
    "# read in data\n",
    "# df = spark.read.json('2022-03-01_21-24-03_all_cities')\n",
    "df = spark.read.json('data/2022-03-04_09-07-35/2022-03-04_09-07-35_all_cities.json')\n",
    "\n",
    "# Select the model\n",
    "MODEL_NAME='classifierdl_use_emotion'\n",
    "\n",
    "# define spark nlp pipeline\n",
    "documentAssembler = DocumentAssembler()\\\n",
    "    .setInputCol(\"full_text\")\\\n",
    "    .setOutputCol(\"document\")\n",
    "    \n",
    "use = UniversalSentenceEncoder.pretrained(name=\"tfhub_use\", lang=\"en\")\\\n",
    " .setInputCols([\"document\"])\\\n",
    " .setOutputCol(\"sentence_embeddings\")\n",
    "\n",
    "\n",
    "sentimentdl = ClassifierDLModel.pretrained(name=MODEL_NAME)\\\n",
    "    .setInputCols([\"sentence_embeddings\"])\\\n",
    "    .setOutputCol(\"sentiment\")\n",
    "\n",
    "nlpPipeline = Pipeline(\n",
    "      stages = [\n",
    "          documentAssembler,\n",
    "          use,\n",
    "          sentimentdl\n",
    "      ])\n",
    "\n",
    "# run the pipeline\n",
    "pipelineModel = nlpPipeline.fit(df)\n",
    "result = pipelineModel.transform(df)\n",
    "\n",
    "# pull out emotion from embedded column and select columns of interest\n",
    "final_df = result.withColumn('emotion', result.sentiment.result[0]).select('created_at', 'city', 'full_text', 'sentiment_score', 'emotion')\n",
    "\n",
    "# save as pandas df\n",
    "final_df_pd = final_df.toPandas()"
   ]
  },
  {
   "cell_type": "code",
   "execution_count": 4,
   "metadata": {
    "executionInfo": {
     "elapsed": 5,
     "status": "ok",
     "timestamp": 1646190356199,
     "user": {
      "displayName": "Adam Talbot",
      "photoUrl": "https://lh3.googleusercontent.com/a-/AOh14Gg1bhsTkJdtTn2EvFsfqarCW4nFkBUM4pk5_02-=s64",
      "userId": "01176632121423289274"
     },
     "user_tz": 420
    },
    "id": "Dd49DRh39XZH"
   },
   "outputs": [],
   "source": [
    "# generate time stamp\n",
    "time_stamp = datetime.now().strftime(\"%Y-%m-%d_%H-%M-%S\")\n",
    "\n",
    "# save final data\n",
    "# final_df_pd.to_json(f'{time_stamp}_final.json', orient='records')\n",
    "!mkdir 'data/{time_stamp}'\n",
    "final_df_pd.to_json(f'data/{time_stamp}/{time_stamp}_final.json', orient='records')"
   ]
  },
  {
   "cell_type": "code",
   "execution_count": 5,
   "metadata": {
    "executionInfo": {
     "elapsed": 4,
     "status": "ok",
     "timestamp": 1646190356199,
     "user": {
      "displayName": "Adam Talbot",
      "photoUrl": "https://lh3.googleusercontent.com/a-/AOh14Gg1bhsTkJdtTn2EvFsfqarCW4nFkBUM4pk5_02-=s64",
      "userId": "01176632121423289274"
     },
     "user_tz": 420
    },
    "id": "fwFvM9R29h2n"
   },
   "outputs": [],
   "source": [
    "# # read data in (if starting with flat data with emotion labels)\n",
    "# final_df = spark.read.json(f'{time_stamp}_final.json')\n",
    "# final_df_pd = final_df.toPandas()"
   ]
  },
  {
   "cell_type": "markdown",
   "metadata": {
    "id": "isikwczc_9bo"
   },
   "source": [
    "## Visualize Results"
   ]
  },
  {
   "cell_type": "code",
   "execution_count": 6,
   "metadata": {
    "executionInfo": {
     "elapsed": 4,
     "status": "ok",
     "timestamp": 1646190356199,
     "user": {
      "displayName": "Adam Talbot",
      "photoUrl": "https://lh3.googleusercontent.com/a-/AOh14Gg1bhsTkJdtTn2EvFsfqarCW4nFkBUM4pk5_02-=s64",
      "userId": "01176632121423289274"
     },
     "user_tz": 420
    },
    "id": "dnWwtt1b9_7_"
   },
   "outputs": [],
   "source": [
    "emotion_ct = pd.crosstab(final_df_pd.city, final_df_pd.emotion, margins=True)"
   ]
  },
  {
   "cell_type": "code",
   "execution_count": 7,
   "metadata": {
    "colab": {
     "base_uri": "https://localhost:8080/",
     "height": 468
    },
    "executionInfo": {
     "elapsed": 583,
     "status": "ok",
     "timestamp": 1646190356779,
     "user": {
      "displayName": "Adam Talbot",
      "photoUrl": "https://lh3.googleusercontent.com/a-/AOh14Gg1bhsTkJdtTn2EvFsfqarCW4nFkBUM4pk5_02-=s64",
      "userId": "01176632121423289274"
     },
     "user_tz": 420
    },
    "id": "RNQa6AOk-NWX",
    "outputId": "57b460c4-9cb7-4b5f-f84e-9d4e6cc91b0d"
   },
   "outputs": [
    {
     "data": {
      "image/png": "[encoded data removed]",
      "text/plain": [
       "<Figure size 936x504 with 1 Axes>"
      ]
     },
     "metadata": {},
     "output_type": "display_data"
    }
   ],
   "source": [
    "city_list = ['DFW', 'Phoenix', 'Tampa']\n",
    "(emotion_ct[emotion_ct.index.isin(city_list)]\n",
    "  .apply(lambda row: row/row['All'], axis = 1)\n",
    "  .drop(columns = 'All')\n",
    "  .plot.barh(stacked = True, width = 1, ec = 'lightgrey')\n",
    ")\n",
    "plt.title('Proportion of Emotion Classification by City')\n",
    "plt.legend(bbox_to_anchor= (1.03,1))\n",
    "plt.xlabel('Proportion')\n",
    "plt.ylabel('');"
   ]
  },
  {
   "cell_type": "code",
   "execution_count": 8,
   "metadata": {
    "colab": {
     "base_uri": "https://localhost:8080/",
     "height": 449
    },
    "executionInfo": {
     "elapsed": 470,
     "status": "ok",
     "timestamp": 1646190357244,
     "user": {
      "displayName": "Adam Talbot",
      "photoUrl": "https://lh3.googleusercontent.com/a-/AOh14Gg1bhsTkJdtTn2EvFsfqarCW4nFkBUM4pk5_02-=s64",
      "userId": "01176632121423289274"
     },
     "user_tz": 420
    },
    "id": "JkvJrmng_Cin",
    "outputId": "e3919b54-f892-4c96-9ca9-dbff7fbf6087"
   },
   "outputs": [
    {
     "data": {
      "image/png": "[encoded data removed]",
      "text/plain": [
       "<Figure size 936x504 with 1 Axes>"
      ]
     },
     "metadata": {},
     "output_type": "display_data"
    }
   ],
   "source": [
    "city_list = ['DFW', 'Phoenix', 'Tampa']\n",
    "(emotion_ct[emotion_ct.index.isin(city_list)]\n",
    "  .apply(lambda row: row/row['All'], axis = 1)\n",
    "  .drop(columns = 'All')\n",
    "  .plot.bar(width=0.75, ec='lightgray')\n",
    ")\n",
    "plt.title('Proportion of Emotion Classification by City')\n",
    "plt.xlabel('')\n",
    "plt.ylabel('Proportion')\n",
    "plt.xticks(rotation=0);\n",
    "# plt.legend(bbox_to_anchor= (1.03,1));"
   ]
  }
 ],
 "metadata": {
  "colab": {
   "authorship_tag": "ABX9TyNRMaQtHDBidn1/iXnOO54Q",
   "collapsed_sections": [],
   "name": "Final Emotion Classifier 2020 Model.ipynb",
   "provenance": []
  },
  "kernelspec": {
   "display_name": "Python 3",
   "language": "python",
   "name": "python3"
  },
  "language_info": {
   "codemirror_mode": {
    "name": "ipython",
    "version": 3
   },
   "file_extension": ".py",
   "mimetype": "text/x-python",
   "name": "python",
   "nbconvert_exporter": "python",
   "pygments_lexer": "ipython3",
   "version": "3.8.8"
  }
 },
 "nbformat": 4,
 "nbformat_minor": 4
}
