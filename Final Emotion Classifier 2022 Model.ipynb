{
 "cells": [
  {
   "cell_type": "markdown",
   "metadata": {
    "id": "i4DfSiFG5J5k"
   },
   "source": [
    "---\n",
    "# Tweet Emotion Classifier\n",
    "---"
   ]
  },
  {
   "cell_type": "markdown",
   "metadata": {
    "id": "OxtYeVua5e9V"
   },
   "source": [
    "Files needed:\n",
    "* Lastest json file with all tweets from all cities (e.g. {time_stamp}_all_cities.json)"
   ]
  },
  {
   "cell_type": "markdown",
   "metadata": {
    "id": "ROXlteqv_LJY"
   },
   "source": [
    "## Installs and Imports"
   ]
  },
  {
   "cell_type": "code",
   "execution_count": 1,
   "metadata": {
    "colab": {
     "base_uri": "https://localhost:8080/"
    },
    "executionInfo": {
     "elapsed": 39685,
     "status": "ok",
     "timestamp": 1646190522575,
     "user": {
      "displayName": "Adam Talbot",
      "photoUrl": "https://lh3.googleusercontent.com/a-/AOh14Gg1bhsTkJdtTn2EvFsfqarCW4nFkBUM4pk5_02-=s64",
      "userId": "01176632121423289274"
     },
     "user_tz": 420
    },
    "id": "vTAmPGEi5zEz",
    "outputId": "3ea9ae4a-fe88-44ec-8957-2e2648d672a1"
   },
   "outputs": [],
   "source": [
    "# Install PySpark and Spark NLP\n",
    "! pip install -q pyspark==3.1.2 spark-nlp"
   ]
  },
  {
   "cell_type": "code",
   "execution_count": 2,
   "metadata": {
    "executionInfo": {
     "elapsed": 648,
     "status": "ok",
     "timestamp": 1646190523215,
     "user": {
      "displayName": "Adam Talbot",
      "photoUrl": "https://lh3.googleusercontent.com/a-/AOh14Gg1bhsTkJdtTn2EvFsfqarCW4nFkBUM4pk5_02-=s64",
      "userId": "01176632121423289274"
     },
     "user_tz": 420
    },
    "id": "ZRv539ZHEoHm"
   },
   "outputs": [],
   "source": [
    "import pandas as pd\n",
    "import numpy as np\n",
    "import json\n",
    "from pyspark.ml import Pipeline\n",
    "from pyspark.sql import SparkSession\n",
    "import pyspark.sql.functions as F\n",
    "from sparknlp.annotator import *\n",
    "from sparknlp.base import *\n",
    "import sparknlp\n",
    "from sparknlp.pretrained import PretrainedPipeline\n",
    "from datetime import datetime\n",
    "\n",
    "import matplotlib.pyplot as plt\n",
    "import seaborn as sns\n",
    "\n",
    "# visualization settings\n",
    "plt.rc('figure', figsize=(13, 7))\n",
    "plt.rc('font', size=16)\n",
    "plt.style.use('seaborn-darkgrid')\n",
    "\n",
    "#select seaborn color palette\n",
    "sns.set_palette('ocean_r')"
   ]
  },
  {
   "cell_type": "markdown",
   "metadata": {
    "id": "Vy2nxdwj_R-4"
   },
   "source": [
    "## Modeling"
   ]
  },
  {
   "cell_type": "code",
   "execution_count": 3,
   "metadata": {
    "colab": {
     "base_uri": "https://localhost:8080/"
    },
    "executionInfo": {
     "elapsed": 80714,
     "status": "ok",
     "timestamp": 1646190620379,
     "user": {
      "displayName": "Adam Talbot",
      "photoUrl": "https://lh3.googleusercontent.com/a-/AOh14Gg1bhsTkJdtTn2EvFsfqarCW4nFkBUM4pk5_02-=s64",
      "userId": "01176632121423289274"
     },
     "user_tz": 420
    },
    "id": "AjYAoHRa57rL",
    "outputId": "be0ad7f2-133d-4ea4-e6f6-0e039b75ace7"
   },
   "outputs": [
    {
     "name": "stdout",
     "output_type": "stream",
     "text": [
      "bert_sequence_classifier_emotion download started this may take some time.\n",
      "Approximate size to download 391.1 MB\n",
      "[OK!]\n"
     ]
    }
   ],
   "source": [
    "# start spark session\n",
    "spark = sparknlp.start()\n",
    "\n",
    "# read in data\n",
    "# df = spark.read.json('2022-03-01_21-24-03_all_cities.json')\n",
    "df = spark.read.json('data/2022-03-01_21-24-03/2022-03-01_21-24-03_all_cities.json')\n",
    "\n",
    "# define spark nlp pipeline\n",
    "document_assembler = DocumentAssembler() \\\n",
    "    .setInputCol('full_text') \\\n",
    "    .setOutputCol('document')\n",
    "\n",
    "tokenizer = Tokenizer() \\\n",
    "    .setInputCols(['document']) \\\n",
    "    .setOutputCol('token')\n",
    "\n",
    "sequenceClassifier = BertForSequenceClassification \\\n",
    "      .pretrained('bert_sequence_classifier_emotion', 'en') \\\n",
    "      .setInputCols(['token', 'document']) \\\n",
    "      .setOutputCol('class')\n",
    "\n",
    "pipeline = Pipeline(stages=[document_assembler, tokenizer, sequenceClassifier])\n",
    "\n",
    "# run the pipeline\n",
    "result = pipeline.fit(df).transform(df)"
   ]
  },
  {
   "cell_type": "code",
   "execution_count": 4,
   "metadata": {
    "executionInfo": {
     "elapsed": 315,
     "status": "ok",
     "timestamp": 1646191388279,
     "user": {
      "displayName": "Adam Talbot",
      "photoUrl": "https://lh3.googleusercontent.com/a-/AOh14Gg1bhsTkJdtTn2EvFsfqarCW4nFkBUM4pk5_02-=s64",
      "userId": "01176632121423289274"
     },
     "user_tz": 420
    },
    "id": "i2LvcW31oxMX"
   },
   "outputs": [],
   "source": [
    "# rename the class column\n",
    "result = result.withColumnRenamed('class', 'sentiment')"
   ]
  },
  {
   "cell_type": "code",
   "execution_count": 6,
   "metadata": {
    "executionInfo": {
     "elapsed": 1820060,
     "status": "ok",
     "timestamp": 1646193306707,
     "user": {
      "displayName": "Adam Talbot",
      "photoUrl": "https://lh3.googleusercontent.com/a-/AOh14Gg1bhsTkJdtTn2EvFsfqarCW4nFkBUM4pk5_02-=s64",
      "userId": "01176632121423289274"
     },
     "user_tz": 420
    },
    "id": "yJQ-Fb7nmNF4"
   },
   "outputs": [],
   "source": [
    "# pull out emotion from embedded column and select columns of interest\n",
    "final_df = result.withColumn('emotion', result.sentiment.result[0]).select('created_at', 'city', 'full_text', 'sentiment_score', 'emotion')"
   ]
  },
  {
   "cell_type": "code",
   "execution_count": 7,
   "metadata": {
    "executionInfo": {
     "elapsed": 1820060,
     "status": "ok",
     "timestamp": 1646193306707,
     "user": {
      "displayName": "Adam Talbot",
      "photoUrl": "https://lh3.googleusercontent.com/a-/AOh14Gg1bhsTkJdtTn2EvFsfqarCW4nFkBUM4pk5_02-=s64",
      "userId": "01176632121423289274"
     },
     "user_tz": 420
    },
    "id": "yJQ-Fb7nmNF4"
   },
   "outputs": [
    {
     "name": "stdout",
     "output_type": "stream",
     "text": [
      "CPU times: user 73.1 ms, sys: 94.3 ms, total: 167 ms\n",
      "Wall time: 8min 40s\n"
     ]
    }
   ],
   "source": [
    "%%time\n",
    "# save as pandas df\n",
    "final_df_pd = final_df.toPandas()"
   ]
  },
  {
   "cell_type": "code",
   "execution_count": 10,
   "metadata": {
    "executionInfo": {
     "elapsed": 191,
     "status": "ok",
     "timestamp": 1646193340713,
     "user": {
      "displayName": "Adam Talbot",
      "photoUrl": "https://lh3.googleusercontent.com/a-/AOh14Gg1bhsTkJdtTn2EvFsfqarCW4nFkBUM4pk5_02-=s64",
      "userId": "01176632121423289274"
     },
     "user_tz": 420
    },
    "id": "Dd49DRh39XZH"
   },
   "outputs": [],
   "source": [
    "# generate time stamp\n",
    "time_stamp = datetime.now().strftime(\"%Y-%m-%d_%H-%M-%S\")\n",
    "!mkdir 'data/{time_stamp}'\n",
    "# save final data\n",
    "# final_df_pd.to_json(f'{time_stamp}_final22.json', orient='records')\n",
    "final_df_pd.to_json(f'data/{time_stamp}/{time_stamp}_final22.json', orient='records')"
   ]
  },
  {
   "cell_type": "code",
   "execution_count": 11,
   "metadata": {
    "executionInfo": {
     "elapsed": 164,
     "status": "ok",
     "timestamp": 1646193356198,
     "user": {
      "displayName": "Adam Talbot",
      "photoUrl": "https://lh3.googleusercontent.com/a-/AOh14Gg1bhsTkJdtTn2EvFsfqarCW4nFkBUM4pk5_02-=s64",
      "userId": "01176632121423289274"
     },
     "user_tz": 420
    },
    "id": "fwFvM9R29h2n"
   },
   "outputs": [],
   "source": [
    "# # read data in (if starting with flat data with emotion labels)\n",
    "# final_df = spark.read.json(f'{time_stamp}_final22.json')\n",
    "# final_df_pd = final_df.toPandas()"
   ]
  },
  {
   "cell_type": "markdown",
   "metadata": {
    "id": "isikwczc_9bo"
   },
   "source": [
    "## Visualize Results"
   ]
  },
  {
   "cell_type": "code",
   "execution_count": 12,
   "metadata": {
    "executionInfo": {
     "elapsed": 2,
     "status": "ok",
     "timestamp": 1646193356886,
     "user": {
      "displayName": "Adam Talbot",
      "photoUrl": "https://lh3.googleusercontent.com/a-/AOh14Gg1bhsTkJdtTn2EvFsfqarCW4nFkBUM4pk5_02-=s64",
      "userId": "01176632121423289274"
     },
     "user_tz": 420
    },
    "id": "dnWwtt1b9_7_"
   },
   "outputs": [],
   "source": [
    "emotion_ct = pd.crosstab(final_df_pd.city, final_df_pd.emotion, margins=True)"
   ]
  },
  {
   "cell_type": "code",
   "execution_count": 13,
   "metadata": {
    "colab": {
     "base_uri": "https://localhost:8080/",
     "height": 468
    },
    "executionInfo": {
     "elapsed": 460,
     "status": "ok",
     "timestamp": 1646193358264,
     "user": {
      "displayName": "Adam Talbot",
      "photoUrl": "https://lh3.googleusercontent.com/a-/AOh14Gg1bhsTkJdtTn2EvFsfqarCW4nFkBUM4pk5_02-=s64",
      "userId": "01176632121423289274"
     },
     "user_tz": 420
    },
    "id": "RNQa6AOk-NWX",
    "outputId": "3432002d-1bd4-40e2-f503-8283fcf4f90e"
   },
   "outputs": [
    {
     "data": {
      "image/png": "[encoded data removed]",
      "text/plain": [
       "<Figure size 936x504 with 1 Axes>"
      ]
     },
     "metadata": {},
     "output_type": "display_data"
    }
   ],
   "source": [
    "city_list = ['DFW', 'Phoenix', 'Tampa']\n",
    "(emotion_ct[emotion_ct.index.isin(city_list)]\n",
    "  .apply(lambda row: row/row['All'], axis = 1)\n",
    "  .drop(columns = 'All')\n",
    "  .plot.barh(stacked = True, width = 1, ec = 'lightgrey')\n",
    ")\n",
    "plt.title('Proportion of Emotion Classification by City')\n",
    "plt.legend(bbox_to_anchor= (1.03,1))\n",
    "plt.xlabel('Proportion')\n",
    "plt.ylabel('');"
   ]
  },
  {
   "cell_type": "code",
   "execution_count": 14,
   "metadata": {
    "colab": {
     "base_uri": "https://localhost:8080/",
     "height": 449
    },
    "executionInfo": {
     "elapsed": 821,
     "status": "ok",
     "timestamp": 1646193362304,
     "user": {
      "displayName": "Adam Talbot",
      "photoUrl": "https://lh3.googleusercontent.com/a-/AOh14Gg1bhsTkJdtTn2EvFsfqarCW4nFkBUM4pk5_02-=s64",
      "userId": "01176632121423289274"
     },
     "user_tz": 420
    },
    "id": "JkvJrmng_Cin",
    "outputId": "6e57d9bb-a53c-4340-eb4e-b491c683e834"
   },
   "outputs": [
    {
     "data": {
      "image/png": "[encoded data removed]",
      "text/plain": [
       "<Figure size 936x504 with 1 Axes>"
      ]
     },
     "metadata": {},
     "output_type": "display_data"
    }
   ],
   "source": [
    "city_list = ['DFW', 'Phoenix', 'Tampa']\n",
    "(emotion_ct[emotion_ct.index.isin(city_list)]\n",
    "  .apply(lambda row: row/row['All'], axis = 1)\n",
    "  .drop(columns = 'All')\n",
    "  .plot.bar(width=0.75, ec='lightgray')\n",
    ")\n",
    "plt.title('Proportion of Emotion Classification by City')\n",
    "plt.xlabel('')\n",
    "plt.ylabel('Proportion')\n",
    "plt.xticks(rotation=0);\n",
    "# plt.legend(bbox_to_anchor= (1.03,1));"
   ]
  }
 ],
 "metadata": {
  "colab": {
   "authorship_tag": "ABX9TyM6+O+VYYd+iaV8forzUc0N",
   "collapsed_sections": [],
   "name": "Final Emotion Classifier 2022 Model.ipynb",
   "provenance": [
    {
     "file_id": "1JQvB-A2vX1J4g6udk6oR2Qw9G9K97ESw",
     "timestamp": 1646190221907
    }
   ]
  },
  "kernelspec": {
   "display_name": "Python 3",
   "language": "python",
   "name": "python3"
  },
  "language_info": {
   "codemirror_mode": {
    "name": "ipython",
    "version": 3
   },
   "file_extension": ".py",
   "mimetype": "text/x-python",
   "name": "python",
   "nbconvert_exporter": "python",
   "pygments_lexer": "ipython3",
   "version": "3.8.8"
  }
 },
 "nbformat": 4,
 "nbformat_minor": 4
}
